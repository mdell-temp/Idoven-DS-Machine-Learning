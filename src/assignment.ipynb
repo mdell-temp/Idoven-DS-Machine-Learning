{
 "cells": [
  {
   "cell_type": "markdown",
   "id": "6a478556-1d4f-451b-96c0-a4d3e80e38b9",
   "metadata": {},
   "source": [
    "# Assignment:\n",
    "\n",
    "'''\n",
    "We ask data scientist do want to join Idoven to work with anonymised patient data, and on the basis of this data be able to:\n",
    "\n",
    "- Read the ECG files and corresponding annotations\n",
    "- Show how they will work on the signal and plot the signal in appropriate manner to be read by a doctor\n",
    "\n",
    "As a result we expect a github project with and extructure that will include:\n",
    "\n",
    "- Reference documentation used\n",
    "- Jupyter Notebook, in an running environment, Colab, Docker.\n",
    "An explanation of the work done and lessons learned.\n",
    "'''\n",
    "\n"
   ]
  },
  {
   "cell_type": "code",
   "execution_count": null,
   "id": "6d89fad7-caf1-4af2-ac2e-63b226f66b7f",
   "metadata": {},
   "outputs": [],
   "source": []
  },
  {
   "cell_type": "code",
   "execution_count": null,
   "id": "b63566e9-db0f-464e-a6ff-4a51e44e6308",
   "metadata": {},
   "outputs": [],
   "source": []
  },
  {
   "cell_type": "code",
   "execution_count": null,
   "id": "41cdd874-80b8-4320-bff2-7c0e23e79e60",
   "metadata": {},
   "outputs": [],
   "source": []
  },
  {
   "cell_type": "code",
   "execution_count": null,
   "id": "0de57957-bebb-45fa-9e79-8f30190fb3cc",
   "metadata": {},
   "outputs": [],
   "source": []
  },
  {
   "cell_type": "code",
   "execution_count": null,
   "id": "02105bf8-082d-4e76-9e3a-946f47576401",
   "metadata": {},
   "outputs": [],
   "source": []
  },
  {
   "cell_type": "code",
   "execution_count": null,
   "id": "637deb93-7c3e-4cf7-b308-36782843adf2",
   "metadata": {},
   "outputs": [],
   "source": []
  },
  {
   "cell_type": "code",
   "execution_count": null,
   "id": "607e9a20-3cc6-45c2-9669-4f1fbb1414f5",
   "metadata": {},
   "outputs": [],
   "source": []
  }
 ],
 "metadata": {
  "kernelspec": {
   "display_name": "Python 3 (ipykernel)",
   "language": "python",
   "name": "python3"
  },
  "language_info": {
   "codemirror_mode": {
    "name": "ipython",
    "version": 3
   },
   "file_extension": ".py",
   "mimetype": "text/x-python",
   "name": "python",
   "nbconvert_exporter": "python",
   "pygments_lexer": "ipython3",
   "version": "3.10.14"
  }
 },
 "nbformat": 4,
 "nbformat_minor": 5
}
